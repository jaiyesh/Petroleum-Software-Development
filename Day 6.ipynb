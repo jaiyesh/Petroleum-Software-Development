{
 "cells": [
  {
   "cell_type": "markdown",
   "id": "043df624",
   "metadata": {},
   "source": [
    "## break statement: for breaking the loop prematurely\n",
    "\n",
    "- we can break infinite loop if some condition is satisfied"
   ]
  },
  {
   "cell_type": "code",
   "execution_count": 2,
   "id": "bcb2e47e",
   "metadata": {},
   "outputs": [
    {
     "name": "stdout",
     "output_type": "stream",
     "text": [
      "1\n",
      "2\n",
      "3\n"
     ]
    }
   ],
   "source": [
    "x= 0\n",
    "while x<7:\n",
    "    x+=1\n",
    "    if x==4:\n",
    "        break\n",
    "    print(x)"
   ]
  },
  {
   "cell_type": "code",
   "execution_count": 3,
   "id": "7478d7a0",
   "metadata": {},
   "outputs": [
    {
     "name": "stdout",
     "output_type": "stream",
     "text": [
      "Formation Pressure is 2500 psi\n",
      "Formation Pressure is 2600 psi\n",
      "Formation Pressure is 2700 psi\n",
      "Formation Pressure is 2800 psi\n",
      "Formation Pressure is 2900 psi\n",
      "Formation Pressure is 3000 psi\n",
      "Formation Pressure is 3100 psi\n",
      "Formation Pressure is 3200 psi\n",
      "Formation Pressure is 3300 psi\n",
      "Formation Pressure is 3400 psi\n",
      "Formation Pressure is 3500 psi\n",
      "Formation Pressure is 3600 psi\n",
      "Formation Pressure is 3700 psi\n",
      "Formation Pressure is 3800 psi\n",
      "Formation Pressure is 3900 psi\n",
      "Formation Pressure is 4000 psi\n",
      "Formation Pressure is 4100 psi\n",
      "Formation Pressure is 4200 psi\n",
      "Formation Pressure is 4300 psi\n",
      "Formation Pressure is 4400 psi\n",
      "Formation Pressure is 4500 psi\n",
      "Formation Pressure is 4600 psi\n",
      "Formation Pressure is 4700 psi\n",
      "Formation Pressure is 4800 psi\n",
      "Formation Pressure is 4900 psi\n",
      "Pressure Reached its maximum value, so breaking the loop\n",
      "Finished\n"
     ]
    }
   ],
   "source": [
    "pressure = 2500\n",
    "\n",
    "while True:\n",
    "    print(f'Formation Pressure is {pressure} psi')\n",
    "    pressure+=100\n",
    "    if pressure == 5000:\n",
    "        print(\"Pressure Reached its maximum value, so breaking the loop\")\n",
    "        break\n",
    "print(\"Finished\")"
   ]
  },
  {
   "cell_type": "code",
   "execution_count": 5,
   "id": "b26176cb",
   "metadata": {},
   "outputs": [
    {
     "name": "stdout",
     "output_type": "stream",
     "text": [
      "Value of pressure is 2300\n",
      "Loop not broken yet\n",
      "Value of pressure is 3200\n",
      "Loop not broken yet\n",
      "Value of pressure is 3400\n",
      "Loop not broken yet\n",
      "Value of pressure is 5000\n",
      "Now I am breaking the loop\n"
     ]
    }
   ],
   "source": [
    "pressures = [2300,3200,3400,5000,5200]\n",
    "\n",
    "for i in pressures:\n",
    "    print(f\"Value of pressure is {i}\")\n",
    "    \n",
    "    if i ==5000:\n",
    "        print(\"Now I am breaking the loop\")\n",
    "        break\n",
    "    else:\n",
    "        print(\"Loop not broken yet\")"
   ]
  },
  {
   "cell_type": "markdown",
   "id": "c9c6ee9b",
   "metadata": {},
   "source": [
    "# Continue: to jump back to top of the loop,rather than breaking it.\n",
    "\n",
    "- Stop current iteration and continue with the next one.\n",
    "\n",
    "## Break: not execution of loop at all.\n",
    "\n",
    "## COntinue: Current iteration and next iteration will start, anythin written after continue will not be executed"
   ]
  },
  {
   "cell_type": "code",
   "execution_count": 7,
   "id": "c7864a22",
   "metadata": {},
   "outputs": [
    {
     "name": "stdout",
     "output_type": "stream",
     "text": [
      "0\n",
      "1\n",
      "2\n",
      "3\n",
      "Skipping 4\n",
      "5\n",
      "6\n",
      "Complete\n"
     ]
    }
   ],
   "source": [
    "for i in range(7):\n",
    "    if i ==4:\n",
    "        print(\"Skipping 4\")\n",
    "        continue\n",
    "        print(i)\n",
    "    print(i)\n",
    "    \n",
    "print(\"Complete\")"
   ]
  },
  {
   "cell_type": "code",
   "execution_count": 8,
   "id": "f8be4b23",
   "metadata": {},
   "outputs": [
    {
     "name": "stdout",
     "output_type": "stream",
     "text": [
      "Pressure is 3600 psi\n",
      "Pressure is 3700 psi\n",
      "Pressure is 3800 psi\n",
      "Pressure is 3900 psi\n",
      "SKipping 4000 psi\n",
      "Pressure is 4100 psi\n",
      "Pressure is 4200 psi\n",
      "Pressure is 4300 psi\n",
      "Pressure is 4400 psi\n",
      "Pressure is 4500 psi\n"
     ]
    }
   ],
   "source": [
    "pressure = 3500\n",
    "\n",
    "while pressure < 4500:\n",
    "    pressure+=100\n",
    "    if pressure ==4000:\n",
    "        print(\"SKipping 4000 psi\")\n",
    "        continue\n",
    "    print(f\"Pressure is {pressure} psi\")"
   ]
  },
  {
   "cell_type": "markdown",
   "id": "a9112260",
   "metadata": {},
   "source": [
    "## Functions\n",
    "\n",
    "- To make your code modular\n",
    "\n",
    "- Cleaner code\n",
    "\n",
    "- Reusability of code"
   ]
  },
  {
   "cell_type": "code",
   "execution_count": 9,
   "id": "545c90f6",
   "metadata": {},
   "outputs": [
    {
     "name": "stdout",
     "output_type": "stream",
     "text": [
      "Enter value for a: 5\n",
      "Enter value for b: 4\n",
      "Enter value for c: 2\n",
      "Enter x: 1\n",
      "fx = 11.0\n"
     ]
    }
   ],
   "source": [
    "a = float(input(\"Enter value for a: \"))\n",
    "b = float(input(\"Enter value for b: \"))\n",
    "c = float(input(\"Enter value for c: \"))\n",
    "\n",
    "x = float(input(\"Enter x: \"))\n",
    "\n",
    "fx = a*x**2 +b*x + c\n",
    "\n",
    "print(f\"fx = {fx}\")"
   ]
  },
  {
   "cell_type": "code",
   "execution_count": 10,
   "id": "3f4383e3",
   "metadata": {},
   "outputs": [
    {
     "name": "stdout",
     "output_type": "stream",
     "text": [
      "Enter value for a: 5\n",
      "Enter value for b: 4\n",
      "Enter value for c: 2\n",
      "Enter x: 6\n",
      "fx = 206.0\n"
     ]
    }
   ],
   "source": [
    "a = float(input(\"Enter value for a: \"))\n",
    "b = float(input(\"Enter value for b: \"))\n",
    "c = float(input(\"Enter value for c: \"))\n",
    "\n",
    "x = float(input(\"Enter x: \"))\n",
    "\n",
    "fx = a*x**2 +b*x + c\n",
    "\n",
    "print(f\"fx = {fx}\")"
   ]
  },
  {
   "cell_type": "markdown",
   "id": "2c04a636",
   "metadata": {},
   "source": [
    "## Syntax of a function:\n",
    "\n",
    "def my_func_name(param1,param2,....):\n",
    "\n",
    "    block of code"
   ]
  },
  {
   "cell_type": "code",
   "execution_count": 11,
   "id": "fb6f10f0",
   "metadata": {},
   "outputs": [],
   "source": [
    "def test1():\n",
    "    print(\"This is my first function\")"
   ]
  },
  {
   "cell_type": "code",
   "execution_count": 12,
   "id": "994f52fc",
   "metadata": {},
   "outputs": [
    {
     "name": "stdout",
     "output_type": "stream",
     "text": [
      "This is my first function\n"
     ]
    }
   ],
   "source": [
    "test1()"
   ]
  },
  {
   "cell_type": "code",
   "execution_count": 13,
   "id": "c9516dbd",
   "metadata": {},
   "outputs": [
    {
     "name": "stdout",
     "output_type": "stream",
     "text": [
      "This is my first function\n"
     ]
    }
   ],
   "source": [
    "test1()"
   ]
  },
  {
   "cell_type": "code",
   "execution_count": 14,
   "id": "10568e3c",
   "metadata": {},
   "outputs": [],
   "source": [
    "def my_quadratic_func(a,b,c,x):\n",
    "    \n",
    "    fx = a*x**2+b*x+c\n",
    "    \n",
    "    print(fx)"
   ]
  },
  {
   "cell_type": "code",
   "execution_count": 15,
   "id": "eb39a4ed",
   "metadata": {},
   "outputs": [
    {
     "name": "stdout",
     "output_type": "stream",
     "text": [
      "6\n"
     ]
    }
   ],
   "source": [
    "my_quadratic_func(1,2,3,1)"
   ]
  },
  {
   "cell_type": "code",
   "execution_count": 16,
   "id": "792d1841",
   "metadata": {},
   "outputs": [
    {
     "name": "stdout",
     "output_type": "stream",
     "text": [
      "21\n"
     ]
    }
   ],
   "source": [
    "my_quadratic_func(2,4,5,2)"
   ]
  },
  {
   "cell_type": "code",
   "execution_count": 18,
   "id": "d41f65a7",
   "metadata": {},
   "outputs": [
    {
     "ename": "TypeError",
     "evalue": "my_quadratic_func() takes 4 positional arguments but 5 were given",
     "output_type": "error",
     "traceback": [
      "\u001b[1;31m---------------------------------------------------------------------------\u001b[0m",
      "\u001b[1;31mTypeError\u001b[0m                                 Traceback (most recent call last)",
      "\u001b[1;32m<ipython-input-18-8e4ee0b60947>\u001b[0m in \u001b[0;36m<module>\u001b[1;34m\u001b[0m\n\u001b[1;32m----> 1\u001b[1;33m \u001b[0mmy_quadratic_func\u001b[0m\u001b[1;33m(\u001b[0m\u001b[1;36m2\u001b[0m\u001b[1;33m,\u001b[0m\u001b[1;36m4\u001b[0m\u001b[1;33m,\u001b[0m\u001b[1;36m5\u001b[0m\u001b[1;33m,\u001b[0m\u001b[1;36m3\u001b[0m\u001b[1;33m,\u001b[0m\u001b[1;36m2\u001b[0m\u001b[1;33m)\u001b[0m\u001b[1;33m\u001b[0m\u001b[1;33m\u001b[0m\u001b[0m\n\u001b[0m",
      "\u001b[1;31mTypeError\u001b[0m: my_quadratic_func() takes 4 positional arguments but 5 were given"
     ]
    }
   ],
   "source": [
    "my_quadratic_func(2,4,5,3,2)"
   ]
  },
  {
   "cell_type": "code",
   "execution_count": 19,
   "id": "6e712840",
   "metadata": {},
   "outputs": [
    {
     "name": "stdout",
     "output_type": "stream",
     "text": [
      "6\n"
     ]
    }
   ],
   "source": [
    "answer  = my_quadratic_func(1,2,3,1)"
   ]
  },
  {
   "cell_type": "code",
   "execution_count": 20,
   "id": "c323290c",
   "metadata": {},
   "outputs": [],
   "source": [
    "answer"
   ]
  },
  {
   "cell_type": "code",
   "execution_count": 21,
   "id": "ef02e2e6",
   "metadata": {},
   "outputs": [],
   "source": [
    "def my_quadratic_func(a,b,c,x):\n",
    "    \n",
    "    fx = a*x**2+b*x+c\n",
    "    \n",
    "    print(fx)\n",
    "    \n",
    "    return fx "
   ]
  },
  {
   "cell_type": "code",
   "execution_count": 22,
   "id": "69db9e92",
   "metadata": {},
   "outputs": [
    {
     "name": "stdout",
     "output_type": "stream",
     "text": [
      "6\n"
     ]
    }
   ],
   "source": [
    "answer  = my_quadratic_func(1,2,3,1)"
   ]
  },
  {
   "cell_type": "code",
   "execution_count": 23,
   "id": "51808499",
   "metadata": {},
   "outputs": [
    {
     "data": {
      "text/plain": [
       "6"
      ]
     },
     "execution_count": 23,
     "metadata": {},
     "output_type": "execute_result"
    }
   ],
   "source": [
    "answer\n"
   ]
  },
  {
   "cell_type": "code",
   "execution_count": 27,
   "id": "284b6664",
   "metadata": {},
   "outputs": [],
   "source": [
    "def squarer(x):\n",
    "    x_square = x**2\n",
    "    temp = x_square/2\n",
    "    return x_square, temp"
   ]
  },
  {
   "cell_type": "code",
   "execution_count": 28,
   "id": "dc556540",
   "metadata": {},
   "outputs": [],
   "source": [
    "sq , temp = squarer(3)"
   ]
  },
  {
   "cell_type": "code",
   "execution_count": 29,
   "id": "4eadfe83",
   "metadata": {},
   "outputs": [
    {
     "data": {
      "text/plain": [
       "9"
      ]
     },
     "execution_count": 29,
     "metadata": {},
     "output_type": "execute_result"
    }
   ],
   "source": [
    "sq"
   ]
  },
  {
   "cell_type": "code",
   "execution_count": 30,
   "id": "ff33d061",
   "metadata": {},
   "outputs": [
    {
     "data": {
      "text/plain": [
       "4.5"
      ]
     },
     "execution_count": 30,
     "metadata": {},
     "output_type": "execute_result"
    }
   ],
   "source": [
    "temp"
   ]
  },
  {
   "cell_type": "code",
   "execution_count": 31,
   "id": "d7d9431e",
   "metadata": {},
   "outputs": [],
   "source": [
    "t = squarer(3)"
   ]
  },
  {
   "cell_type": "code",
   "execution_count": 32,
   "id": "7c8f1001",
   "metadata": {},
   "outputs": [
    {
     "data": {
      "text/plain": [
       "(9, 4.5)"
      ]
     },
     "execution_count": 32,
     "metadata": {},
     "output_type": "execute_result"
    }
   ],
   "source": [
    "t"
   ]
  },
  {
   "cell_type": "code",
   "execution_count": 33,
   "id": "f7e9358f",
   "metadata": {},
   "outputs": [
    {
     "ename": "ValueError",
     "evalue": "not enough values to unpack (expected 3, got 2)",
     "output_type": "error",
     "traceback": [
      "\u001b[1;31m---------------------------------------------------------------------------\u001b[0m",
      "\u001b[1;31mValueError\u001b[0m                                Traceback (most recent call last)",
      "\u001b[1;32m<ipython-input-33-087502b5863a>\u001b[0m in \u001b[0;36m<module>\u001b[1;34m\u001b[0m\n\u001b[1;32m----> 1\u001b[1;33m \u001b[0mq\u001b[0m\u001b[1;33m,\u001b[0m\u001b[0mw\u001b[0m\u001b[1;33m,\u001b[0m\u001b[0mt\u001b[0m \u001b[1;33m=\u001b[0m \u001b[0msquarer\u001b[0m\u001b[1;33m(\u001b[0m\u001b[1;36m3\u001b[0m\u001b[1;33m)\u001b[0m\u001b[1;33m\u001b[0m\u001b[1;33m\u001b[0m\u001b[0m\n\u001b[0m",
      "\u001b[1;31mValueError\u001b[0m: not enough values to unpack (expected 3, got 2)"
     ]
    }
   ],
   "source": [
    "q,w,t = squarer(3)"
   ]
  },
  {
   "cell_type": "code",
   "execution_count": null,
   "id": "5f0c9fdf",
   "metadata": {},
   "outputs": [],
   "source": []
  }
 ],
 "metadata": {
  "kernelspec": {
   "display_name": "Python 3",
   "language": "python",
   "name": "python3"
  },
  "language_info": {
   "codemirror_mode": {
    "name": "ipython",
    "version": 3
   },
   "file_extension": ".py",
   "mimetype": "text/x-python",
   "name": "python",
   "nbconvert_exporter": "python",
   "pygments_lexer": "ipython3",
   "version": "3.8.8"
  }
 },
 "nbformat": 4,
 "nbformat_minor": 5
}
