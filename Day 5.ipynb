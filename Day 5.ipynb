{
 "cells": [
  {
   "cell_type": "markdown",
   "id": "76120d4c",
   "metadata": {},
   "source": [
    "## for loops\n",
    "\n"
   ]
  },
  {
   "cell_type": "code",
   "execution_count": 1,
   "id": "ea8db92c",
   "metadata": {},
   "outputs": [],
   "source": [
    "perm = [1,2,3,456,34,23,234,5423]"
   ]
  },
  {
   "cell_type": "code",
   "execution_count": 2,
   "id": "356282c9",
   "metadata": {},
   "outputs": [
    {
     "name": "stdout",
     "output_type": "stream",
     "text": [
      "1\n",
      "2\n",
      "3\n",
      "456\n",
      "34\n",
      "23\n",
      "234\n",
      "5423\n"
     ]
    }
   ],
   "source": [
    "for i in perm:\n",
    "    print(i)"
   ]
  },
  {
   "cell_type": "code",
   "execution_count": 4,
   "id": "2739c008",
   "metadata": {},
   "outputs": [
    {
     "name": "stdout",
     "output_type": "stream",
     "text": [
      "API gravity corresponding to Specific gravity 0.2 is 576.0\n",
      "API gravity corresponding to Specific gravity 0.3 is 340.1666666666667\n",
      "API gravity corresponding to Specific gravity 0.54 is 130.537037037037\n",
      "API gravity corresponding to Specific gravity 0.34 is 284.67647058823525\n",
      "API gravity corresponding to Specific gravity 0.7 is 70.64285714285717\n",
      "API gravity corresponding to Specific gravity 1 is 10.0\n"
     ]
    }
   ],
   "source": [
    "specific_gravity = [0.2,0.3,0.54,0.34,0.7,1]\n",
    "\n",
    "for i in specific_gravity:\n",
    "#     print(i)\n",
    "    api = (141.5/i) - 131.5\n",
    "    print(f\"API gravity corresponding to Specific gravity {i} is {api}\")"
   ]
  },
  {
   "cell_type": "code",
   "execution_count": 5,
   "id": "45d8efde",
   "metadata": {},
   "outputs": [
    {
     "name": "stdout",
     "output_type": "stream",
     "text": [
      "API gravity corresponding to Specific gravity 0.2 is 576.0\n",
      "API gravity corresponding to Specific gravity 0.3 is 340.1666666666667\n",
      "API gravity corresponding to Specific gravity 0.54 is 130.537037037037\n",
      "API gravity corresponding to Specific gravity 0.34 is 284.67647058823525\n",
      "API gravity corresponding to Specific gravity 0.7 is 70.64285714285717\n",
      "API gravity corresponding to Specific gravity 1 is 10.0\n"
     ]
    }
   ],
   "source": [
    "API = []\n",
    "\n",
    "for i in specific_gravity:\n",
    "#     print(i)\n",
    "    api = (141.5/i) - 131.5\n",
    "    print(f\"API gravity corresponding to Specific gravity {i} is {api}\")\n",
    "    API.append(api)"
   ]
  },
  {
   "cell_type": "code",
   "execution_count": 6,
   "id": "72c55936",
   "metadata": {},
   "outputs": [
    {
     "data": {
      "text/plain": [
       "[576.0,\n",
       " 340.1666666666667,\n",
       " 130.537037037037,\n",
       " 284.67647058823525,\n",
       " 70.64285714285717,\n",
       " 10.0]"
      ]
     },
     "execution_count": 6,
     "metadata": {},
     "output_type": "execute_result"
    }
   ],
   "source": [
    "API "
   ]
  },
  {
   "cell_type": "code",
   "execution_count": 7,
   "id": "e6f90ac7",
   "metadata": {},
   "outputs": [
    {
     "data": {
      "text/plain": [
       "[1, 2, 3, 456, 34, 23, 234, 5423]"
      ]
     },
     "execution_count": 7,
     "metadata": {},
     "output_type": "execute_result"
    }
   ],
   "source": [
    "perm"
   ]
  },
  {
   "cell_type": "code",
   "execution_count": 8,
   "id": "23a7b280",
   "metadata": {},
   "outputs": [
    {
     "data": {
      "text/plain": [
       "[0.2, 0.3, 0.54, 0.34, 0.7, 1]"
      ]
     },
     "execution_count": 8,
     "metadata": {},
     "output_type": "execute_result"
    }
   ],
   "source": [
    "specific_gravity"
   ]
  },
  {
   "cell_type": "code",
   "execution_count": 10,
   "id": "3cf4e4fe",
   "metadata": {},
   "outputs": [
    {
     "data": {
      "text/plain": [
       "[576.0,\n",
       " 340.1666666666667,\n",
       " 130.537037037037,\n",
       " 284.67647058823525,\n",
       " 70.64285714285717,\n",
       " 10.0]"
      ]
     },
     "execution_count": 10,
     "metadata": {},
     "output_type": "execute_result"
    }
   ],
   "source": [
    "API"
   ]
  },
  {
   "cell_type": "code",
   "execution_count": 11,
   "id": "93c5695b",
   "metadata": {},
   "outputs": [
    {
     "data": {
      "text/plain": [
       "[0.2, 0.3, 0.54, 0.34, 0.7, 1]"
      ]
     },
     "execution_count": 11,
     "metadata": {},
     "output_type": "execute_result"
    }
   ],
   "source": [
    "specific_gravity"
   ]
  },
  {
   "cell_type": "markdown",
   "id": "dd6a0d56",
   "metadata": {},
   "source": [
    "# ZIP: it will create tuple, iterate on multiple iterables"
   ]
  },
  {
   "cell_type": "code",
   "execution_count": 12,
   "id": "59028704",
   "metadata": {},
   "outputs": [
    {
     "data": {
      "text/plain": [
       "<zip at 0x1d008b16e00>"
      ]
     },
     "execution_count": 12,
     "metadata": {},
     "output_type": "execute_result"
    }
   ],
   "source": [
    "zip(API,specific_gravity)"
   ]
  },
  {
   "cell_type": "code",
   "execution_count": 13,
   "id": "0518a592",
   "metadata": {},
   "outputs": [
    {
     "data": {
      "text/plain": [
       "[(576.0, 0.2),\n",
       " (340.1666666666667, 0.3),\n",
       " (130.537037037037, 0.54),\n",
       " (284.67647058823525, 0.34),\n",
       " (70.64285714285717, 0.7),\n",
       " (10.0, 1)]"
      ]
     },
     "execution_count": 13,
     "metadata": {},
     "output_type": "execute_result"
    }
   ],
   "source": [
    "list(zip(API,specific_gravity))"
   ]
  },
  {
   "cell_type": "code",
   "execution_count": 14,
   "id": "94ecba8a",
   "metadata": {},
   "outputs": [
    {
     "name": "stdout",
     "output_type": "stream",
     "text": [
      "API gravity corresponding to Specific gravity 0.2 is 576.0\n",
      "API gravity corresponding to Specific gravity 0.3 is 340.1666666666667\n",
      "API gravity corresponding to Specific gravity 0.54 is 130.537037037037\n",
      "API gravity corresponding to Specific gravity 0.34 is 284.67647058823525\n",
      "API gravity corresponding to Specific gravity 0.7 is 70.64285714285717\n",
      "API gravity corresponding to Specific gravity 1 is 10.0\n"
     ]
    }
   ],
   "source": [
    "for i,j in zip(API,specific_gravity):\n",
    "    print(f\"API gravity corresponding to Specific gravity {j} is {i}\")"
   ]
  },
  {
   "cell_type": "code",
   "execution_count": 15,
   "id": "8ba43955",
   "metadata": {},
   "outputs": [
    {
     "data": {
      "text/plain": [
       "[1, 2, 3, 456, 34, 23, 234, 5423]"
      ]
     },
     "execution_count": 15,
     "metadata": {},
     "output_type": "execute_result"
    }
   ],
   "source": [
    "perm "
   ]
  },
  {
   "cell_type": "code",
   "execution_count": 16,
   "id": "6ad9183b",
   "metadata": {},
   "outputs": [
    {
     "name": "stdout",
     "output_type": "stream",
     "text": [
      "API gravity corresponding to Specific gravity 0.2 is 576.0\n",
      "Permeability value is 1\n",
      "API gravity corresponding to Specific gravity 0.3 is 340.1666666666667\n",
      "Permeability value is 2\n",
      "API gravity corresponding to Specific gravity 0.54 is 130.537037037037\n",
      "Permeability value is 3\n",
      "API gravity corresponding to Specific gravity 0.34 is 284.67647058823525\n",
      "Permeability value is 456\n",
      "API gravity corresponding to Specific gravity 0.7 is 70.64285714285717\n",
      "Permeability value is 34\n",
      "API gravity corresponding to Specific gravity 1 is 10.0\n",
      "Permeability value is 23\n"
     ]
    }
   ],
   "source": [
    "for i,j,k in zip(API,specific_gravity,perm):\n",
    "    print(f\"API gravity corresponding to Specific gravity {j} is {i}\")\n",
    "    print(f\"Permeability value is {k}\")"
   ]
  },
  {
   "cell_type": "code",
   "execution_count": 17,
   "id": "fd5f32e2",
   "metadata": {},
   "outputs": [
    {
     "data": {
      "text/plain": [
       "[(576.0, 0.2, 1),\n",
       " (340.1666666666667, 0.3, 2),\n",
       " (130.537037037037, 0.54, 3),\n",
       " (284.67647058823525, 0.34, 456),\n",
       " (70.64285714285717, 0.7, 34),\n",
       " (10.0, 1, 23)]"
      ]
     },
     "execution_count": 17,
     "metadata": {},
     "output_type": "execute_result"
    }
   ],
   "source": [
    "list(zip(API,specific_gravity,perm))"
   ]
  },
  {
   "cell_type": "code",
   "execution_count": 18,
   "id": "5bbc7c7a",
   "metadata": {},
   "outputs": [],
   "source": [
    "perm = [32,34,43]\n",
    "field_name = [\"neelam\",\"panna\",\"volve\"]\n",
    "porosity = [0.2,0.3,0.5]"
   ]
  },
  {
   "cell_type": "code",
   "execution_count": 19,
   "id": "3fa0d111",
   "metadata": {},
   "outputs": [],
   "source": [
    "# In field ____, porosity is _____, permeability is ___"
   ]
  },
  {
   "cell_type": "code",
   "execution_count": 20,
   "id": "da9f34a0",
   "metadata": {},
   "outputs": [
    {
     "name": "stdout",
     "output_type": "stream",
     "text": [
      "In field neelam, porosity is 0.2, permeability is 32\n",
      "In field panna, porosity is 0.3, permeability is 34\n",
      "In field volve, porosity is 0.5, permeability is 43\n"
     ]
    }
   ],
   "source": [
    "for i,j,k in zip(perm,field_name,porosity):\n",
    "    print(f\"In field {j}, porosity is {k}, permeability is {i}\")"
   ]
  },
  {
   "cell_type": "markdown",
   "id": "b7ca8e32",
   "metadata": {},
   "source": [
    "## If-else: to run a block of code if certain condition holds true"
   ]
  },
  {
   "cell_type": "code",
   "execution_count": 22,
   "id": "64b2f8ba",
   "metadata": {},
   "outputs": [
    {
     "data": {
      "text/plain": [
       "False"
      ]
     },
     "execution_count": 22,
     "metadata": {},
     "output_type": "execute_result"
    }
   ],
   "source": [
    "5<2"
   ]
  },
  {
   "cell_type": "code",
   "execution_count": 26,
   "id": "a3876a22",
   "metadata": {},
   "outputs": [
    {
     "name": "stdout",
     "output_type": "stream",
     "text": [
      "This is outside\n"
     ]
    }
   ],
   "source": [
    "if 5<2:\n",
    "    print(\"The above condition holds true\")\n",
    "print(\"This is outside\")  "
   ]
  },
  {
   "cell_type": "code",
   "execution_count": 29,
   "id": "5db8c9a8",
   "metadata": {},
   "outputs": [
    {
     "name": "stdout",
     "output_type": "stream",
     "text": [
      "It will always run\n"
     ]
    }
   ],
   "source": [
    "if True:\n",
    "    print(\"It will always run\")"
   ]
  },
  {
   "cell_type": "code",
   "execution_count": 31,
   "id": "8707a194",
   "metadata": {},
   "outputs": [
    {
     "name": "stdout",
     "output_type": "stream",
     "text": [
      "Else executed\n"
     ]
    }
   ],
   "source": [
    "if False:\n",
    "    print(\"No, need to try\")\n",
    "else:\n",
    "    print(\"Else executed\")"
   ]
  },
  {
   "cell_type": "code",
   "execution_count": 34,
   "id": "62278c70",
   "metadata": {},
   "outputs": [
    {
     "name": "stdout",
     "output_type": "stream",
     "text": [
      "No, need to try\n"
     ]
    }
   ],
   "source": [
    "if True:\n",
    "    print(\"No, need to try\")\n",
    "else:\n",
    "    print(\"Else executed\")"
   ]
  },
  {
   "cell_type": "code",
   "execution_count": 35,
   "id": "b651ceed",
   "metadata": {},
   "outputs": [],
   "source": [
    "# Task: take inputs of reservoir pressure, hydrostatic pressure and fracture pressure. and return that if myzone is safe or not"
   ]
  },
  {
   "cell_type": "code",
   "execution_count": 50,
   "id": "21c453dd",
   "metadata": {},
   "outputs": [
    {
     "name": "stdout",
     "output_type": "stream",
     "text": [
      "Enter the reservoir pressure(psi):  200\n",
      "Enter the hydrostatic pressure of mud(psi):  300\n",
      "Enter the fracture pressure of rock(psi):  350\n"
     ]
    }
   ],
   "source": [
    "rp = float(input(\"Enter the reservoir pressure(psi):  \"))\n",
    "hp = float(input(\"Enter the hydrostatic pressure of mud(psi):  \"))\n",
    "fp = float(input(\"Enter the fracture pressure of rock(psi):  \"))\n"
   ]
  },
  {
   "cell_type": "code",
   "execution_count": 61,
   "id": "955e1b45",
   "metadata": {},
   "outputs": [
    {
     "name": "stdout",
     "output_type": "stream",
     "text": [
      "Enter the reservoir pressure(psi):  200\n",
      "Enter the hydrostatic pressure of mud(psi):  350\n",
      "Enter the fracture pressure of rock(psi):  400\n",
      "Reservoir Pressure is lesser than Hydrostatic Pressure, so No Kick\n",
      "Hydrostatic Pressure due to mud is lesser than Fracture Pressure of Formation, so no fracture\n",
      "Safe Zone\n"
     ]
    }
   ],
   "source": [
    "rp = float(input(\"Enter the reservoir pressure(psi):  \"))\n",
    "hp = float(input(\"Enter the hydrostatic pressure of mud(psi):  \"))\n",
    "fp = float(input(\"Enter the fracture pressure of rock(psi):  \"))\n",
    "\n",
    "\n",
    "if hp>rp and fp>hp:\n",
    "    print('Reservoir Pressure is lesser than Hydrostatic Pressure, so No Kick')\n",
    "    print('Hydrostatic Pressure due to mud is lesser than Fracture Pressure of Formation, so no fracture')\n",
    "    print('Safe Zone')\n",
    "\n",
    "elif hp>rp and hp>fp:\n",
    "    print(\"Hydrostatic Pressure is greater than Fracture Pressure, may result in fracture\")\n",
    "    print(\"ALERT!!! Risk of formation fracture\")\n",
    "\n",
    "elif hp<rp and fp<hp:\n",
    "    print(\"Not possible\")\n",
    "\n",
    "elif rp>hp:\n",
    "    print(\"Alert!!! Risk of Kick\")\n",
    "    \n",
    "else:\n",
    "    print(\"Check the values again\")"
   ]
  },
  {
   "cell_type": "markdown",
   "id": "b7c5efbc",
   "metadata": {},
   "source": [
    "# while loop: To repeat a block of code again and again; untill the condition satisfies"
   ]
  },
  {
   "cell_type": "code",
   "execution_count": 64,
   "id": "e1e9545b",
   "metadata": {},
   "outputs": [
    {
     "name": "stdout",
     "output_type": "stream",
     "text": [
      "This is valid statement as value of a is 2 that is lesser than 7\n",
      "Now increasing the value of a by 1 unit.\n",
      "This is valid statement as value of a is 3 that is lesser than 7\n",
      "Now increasing the value of a by 1 unit.\n",
      "This is valid statement as value of a is 4 that is lesser than 7\n",
      "Now increasing the value of a by 1 unit.\n",
      "This is valid statement as value of a is 5 that is lesser than 7\n",
      "Now increasing the value of a by 1 unit.\n",
      "This is valid statement as value of a is 6 that is lesser than 7\n",
      "Now increasing the value of a by 1 unit.\n"
     ]
    }
   ],
   "source": [
    "a = 2\n",
    "\n",
    "while a<7:\n",
    "    print(f\"This is valid statement as value of a is {a} that is lesser than 7\")\n",
    "    print(\"Now increasing the value of a by 1 unit.\")\n",
    "    a+=1"
   ]
  },
  {
   "cell_type": "code",
   "execution_count": 65,
   "id": "bb2345e1",
   "metadata": {},
   "outputs": [
    {
     "name": "stdout",
     "output_type": "stream",
     "text": [
      "2000 is normal, lets increase it\n",
      "2100 is normal, lets increase it\n",
      "2200 is normal, lets increase it\n",
      "2300 is normal, lets increase it\n",
      "2400 is normal, lets increase it\n",
      "2500 is abnormal\n"
     ]
    }
   ],
   "source": [
    "pressure = 2000\n",
    "\n",
    "while pressure<2500:\n",
    "    print(f\"{pressure} is normal, lets increase it\")\n",
    "    pressure+=100 #Some process that is increasing mud hydrostatic pressure\n",
    "\n",
    "print(f\"{pressure} is abnormal\")"
   ]
  },
  {
   "cell_type": "markdown",
   "id": "4f4b5070",
   "metadata": {},
   "source": [
    "## break statement: for breaking the loop prematurely\n",
    "\n",
    "- we can break infinite loop if some condition is satisfied"
   ]
  },
  {
   "cell_type": "code",
   "execution_count": null,
   "id": "31363d96",
   "metadata": {},
   "outputs": [],
   "source": [
    "x = 0 \n",
    "\n",
    "while xzcdd  "
   ]
  }
 ],
 "metadata": {
  "kernelspec": {
   "display_name": "Python 3",
   "language": "python",
   "name": "python3"
  },
  "language_info": {
   "codemirror_mode": {
    "name": "ipython",
    "version": 3
   },
   "file_extension": ".py",
   "mimetype": "text/x-python",
   "name": "python",
   "nbconvert_exporter": "python",
   "pygments_lexer": "ipython3",
   "version": "3.8.8"
  }
 },
 "nbformat": 4,
 "nbformat_minor": 5
}
